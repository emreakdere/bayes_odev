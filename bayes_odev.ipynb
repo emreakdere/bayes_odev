{
  "nbformat": 4,
  "nbformat_minor": 0,
  "metadata": {
    "colab": {
      "name": "bayes_odev.ipynb",
      "provenance": [],
      "authorship_tag": "ABX9TyO0qSQ1sQmWVOQTohVjUMir",
      "include_colab_link": true
    },
    "kernelspec": {
      "name": "python3",
      "display_name": "Python 3"
    }
  },
  "cells": [
    {
      "cell_type": "markdown",
      "metadata": {
        "id": "view-in-github",
        "colab_type": "text"
      },
      "source": [
        "<a href=\"https://colab.research.google.com/github/emrecanakdere/bayes_odev/blob/master/bayes_odev.ipynb\" target=\"_parent\"><img src=\"https://colab.research.google.com/assets/colab-badge.svg\" alt=\"Open In Colab\"/></a>"
      ]
    },
    {
      "cell_type": "markdown",
      "metadata": {
        "id": "ICZfYX6MHRqu",
        "colab_type": "text"
      },
      "source": [
        "Ödev 3 - Bayes Teoremi \n",
        "Bir danışmanlık şirketin üyeleri, 1.işletmeden %60 , 2. işletmeden %30 ve 3.işletmeden %10 oranında olmak üzere üç işletmeden araba kiralamaktadırlar.\n",
        "1.işletmeden gelen araçların %9’u, 2. işletmeden gelen araçların %20’si ve 3. işletmeden gelen araçların %6’sı bakım gerektiriyorsa,\n",
        "Şirkete kiralanan bir aracın bakım gerektirme olasılığı ve bakım gerektiren aracın 2. işletmeden gelmiş olma olasılığı nedir?\n",
        "\n",
        "Çözüm:\n",
        "B: Bir arabanın bakım gerektirmesi,\n",
        "Ai: Arabanın 1, 2 ya da 3. işletmeden gelme i= 1, 2, 3 olayları olsun.\n",
        "\n",
        "P(A1) = 0.60, P(A2) = 0.30, P(A3) = 0.10\n",
        "P(B|A1) = 0.09, P(B|A2) = 0.20, P(B|A3) = 0.06\n",
        "\n",
        "P(B) -> arabanın bakım gerektirme olasılığı soruluyor. Toplam olasılıktan yararlanılarak bulunur.\n",
        "P(B) = P(B|A1) X P(A1) + P(B|A2) X P(A2) + P(B|A3) X P(A3)\n",
        "= (0.60 X 0.09) + (0.30 X 0.20) + (0.10 X 0.06) = 0.12\n",
        "Bu şirkette kiralanan araçların %12’sini bakım gerektirecektir.\n",
        "\n",
        "Danışmanlık şirketinin kiraladığı araba bakım gerektiriyorsa bu arabanın 2. işletmeden gelmiş olma olasılığı Bayes teoreminden yararlanılarak bulunabilir.\n",
        "\n",
        "P(A|B) = [P(B|A2) X P(A2)] / [ ∑ P(B|Ai) X P(Ai)]\n",
        "= (0.30 X 0.20) / [(0.60 X 0.09) + (0.30 X 0.20) + (0.10 X 0.06)]\n",
        "= 0.06 / 0.12 = 0.50\n",
        "danışmanlık şirketinin kiraladığı arabalardan yalnızca%30’nun 2. işletmeden gelmesine karşın, bakım gerektiren arabaların yarısı (%50 si) 2. işletmeden gelmektedir."
      ]
    },
    {
      "cell_type": "code",
      "metadata": {
        "id": "J6Jec-4gHDyu",
        "colab_type": "code",
        "colab": {
          "base_uri": "https://localhost:8080/",
          "height": 34
        },
        "outputId": "52d514bf-5e5e-4b8a-c1ae-7f891b1603c1"
      },
      "source": [
        "#İşletmeden alınma olasılıkları\n",
        "P_A1 = 0.6\n",
        "P_A2 = 0.3\n",
        "P_A3 = 0.1 \n",
        "#Seçilen işletmeden bozuk gelme olasılıkları\n",
        "#ör: A1'de alındıysa bozuk olma olasılığı\n",
        "P_BA1 = 0.09\n",
        "P_BA2 = 0.2\n",
        "P_BA3 = 0.06\n",
        "\n",
        "#Alınan aracın bozuk olma olasılığı\n",
        "P_B = (P_BA1 * P_A1) + (P_BA2 * P_A2) + (P_BA3 * P_A3) \n",
        "#Araç bozuk ise A2'den alma olasığı\n",
        "P_A2B = (P_BA2 * P_A2) / P_B \n",
        "\n",
        "print(\"Bozuk olan aracın 2.şirketten alınma olasılığı %\",100*P_A2B)\n",
        "\n",
        "\n"
      ],
      "execution_count": 1,
      "outputs": [
        {
          "output_type": "stream",
          "text": [
            "Bozuk olan aracın 2.şirketten alınma olasılığı % 50.0\n"
          ],
          "name": "stdout"
        }
      ]
    }
  ]
}